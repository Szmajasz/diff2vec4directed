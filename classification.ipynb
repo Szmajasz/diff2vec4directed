{
 "cells": [
  {
   "cell_type": "code",
   "execution_count": 3,
   "id": "e566d384-3c1c-44a3-8148-0d41d084e813",
   "metadata": {
    "tags": []
   },
   "outputs": [],
   "source": [
    "import networkx as nx\n",
    "from karateclub import Diff2Vec\n",
    "\n",
    "import pandas as pd\n",
    "from sklearn.ensemble import RandomForestClassifier\n",
    "from sklearn.svm import LinearSVC\n",
    "from sklearn.model_selection import train_test_split\n",
    "from sklearn.metrics import accuracy_score, precision_score, recall_score, roc_auc_score, f1_score"
   ]
  },
  {
   "cell_type": "code",
   "execution_count": 213,
   "id": "55e75c92-00a9-4a93-b851-caff2653b73f",
   "metadata": {
    "tags": []
   },
   "outputs": [],
   "source": [
    "def createXY(data, labels):\n",
    "    data = data.merge(labels, on=\"node\", how=\"left\")\n",
    "    data = data.drop(\"node\", axis = 1)\n",
    "    y_cols = data.select_dtypes('uint8').columns\n",
    "    Y = data[y_cols].values.flatten()\n",
    "    X = data.drop(y_cols, axis = 1)\n",
    "    return X,Y\n",
    "\n",
    "\n",
    "def get_scores(y_true, y_pred):\n",
    "    return {\n",
    "        \"accuracy\" : accuracy_score(y_true, y_pred),\n",
    "        \"precision\" : precision_score(y_true, y_pred, average='weighted', zero_division=0),\n",
    "        \"recall\" : recall_score(y_true, y_pred, average='weighted', zero_division=0),\n",
    "        # \"roc_auc\" : roc_auc_score(y_true, y_pred, multi_class='ovr'),\n",
    "        \"f1_score\" : f1_score(y_true, y_pred, average='weighted', zero_division=0),\n",
    "    }"
   ]
  },
  {
   "cell_type": "code",
   "execution_count": 12,
   "id": "70bae15e-2194-4145-a823-cfeaaf92b248",
   "metadata": {
    "tags": []
   },
   "outputs": [],
   "source": [
    "d = pd.read_table(\"data/email-eu/email-Eu-core.txt\", sep=\" \")"
   ]
  },
  {
   "cell_type": "code",
   "execution_count": 13,
   "id": "fe4ccf93-e3c1-4ed5-96c4-42dd49167355",
   "metadata": {
    "tags": []
   },
   "outputs": [],
   "source": [
    "d.to_csv(\"data/email-eu/email-Eu-core.csv\",index=False)"
   ]
  },
  {
   "cell_type": "code",
   "execution_count": 17,
   "id": "01a8fe20-04d3-470d-bf92-cfb6c291a6ec",
   "metadata": {
    "tags": []
   },
   "outputs": [],
   "source": [
    "g = nx.read_edgelist(\"data/email-eu/email-Eu-core.txt\", nodetype=int, create_using=nx.DiGraph)"
   ]
  },
  {
   "cell_type": "markdown",
   "id": "627a162a-d455-4f06-8f33-efd5ace65296",
   "metadata": {},
   "source": [
    "## Creating classification tasks"
   ]
  },
  {
   "cell_type": "code",
   "execution_count": 97,
   "id": "cdf00bc3-ef18-442d-8e8c-9cece972ddf9",
   "metadata": {
    "tags": []
   },
   "outputs": [],
   "source": [
    "labels = pd.read_table(\"data/email-eu/email-Eu-core-department-labels.txt\", sep=\" \", header=None)\n",
    "labels = labels.rename(columns={0:\"node\", 1: \"community\"})\n",
    "labels['community'] = labels['community'].astype('uint8')"
   ]
  },
  {
   "cell_type": "code",
   "execution_count": 43,
   "id": "9170f730-11b3-4ba9-ab45-bdbce69f0ec3",
   "metadata": {
    "tags": []
   },
   "outputs": [],
   "source": [
    "# one_hot = pd.get_dummies(labels[1])\n",
    "# one_hot.columns = [\"com_\"+str(s) for s in one_hot.columns]\n",
    "# labels = labels.drop(1, axis=1).merge(one_hot, left_index=True, right_index=True)"
   ]
  },
  {
   "cell_type": "code",
   "execution_count": 151,
   "id": "575b0d58-3190-4553-8479-a0d375bb5c85",
   "metadata": {
    "tags": []
   },
   "outputs": [],
   "source": []
  },
  {
   "cell_type": "code",
   "execution_count": 154,
   "id": "766b595e-da7e-4418-84c0-ab994f82b709",
   "metadata": {
    "tags": []
   },
   "outputs": [],
   "source": []
  },
  {
   "cell_type": "code",
   "execution_count": 155,
   "id": "ce4e56a6-1bf7-4fcd-b706-8dfae47876a2",
   "metadata": {
    "tags": []
   },
   "outputs": [],
   "source": [
    "X,Y = createXY(data_di, labels)"
   ]
  },
  {
   "cell_type": "code",
   "execution_count": 156,
   "id": "be2c807c-f400-4966-a3a3-e6e6d6fb61dc",
   "metadata": {
    "tags": []
   },
   "outputs": [],
   "source": [
    "X_train, X_test, y_train, y_test = train_test_split(X, Y, test_size=0.33, random_state=42)"
   ]
  },
  {
   "cell_type": "code",
   "execution_count": 132,
   "id": "f254b4be-03da-4448-884f-ce3555a0d5c3",
   "metadata": {
    "tags": []
   },
   "outputs": [],
   "source": []
  },
  {
   "cell_type": "code",
   "execution_count": 146,
   "id": "d4e4aa57-43c4-4993-a43d-06ffe4dbda0f",
   "metadata": {
    "tags": []
   },
   "outputs": [],
   "source": []
  },
  {
   "cell_type": "markdown",
   "id": "90bc9ee8-3c57-4978-af63-2cbd7265cf2c",
   "metadata": {},
   "source": [
    "## Connected graph"
   ]
  },
  {
   "cell_type": "code",
   "execution_count": 214,
   "id": "bc9807ad-23eb-4954-875b-118c2c8cd102",
   "metadata": {
    "tags": []
   },
   "outputs": [],
   "source": [
    "data_con = pd.read_csv(\"output/email-eu.csv\")"
   ]
  },
  {
   "cell_type": "code",
   "execution_count": 215,
   "id": "e5f106e4-f5d0-4067-b8d5-df303db426fa",
   "metadata": {
    "tags": []
   },
   "outputs": [],
   "source": [
    "X,Y = createXY(data_con, labels)"
   ]
  },
  {
   "cell_type": "code",
   "execution_count": 216,
   "id": "99387071-70e0-4d3d-926b-ed62d43672b5",
   "metadata": {
    "tags": []
   },
   "outputs": [],
   "source": [
    "X_train, X_test, y_train, y_test = train_test_split(X, Y, test_size=0.33, random_state=42)"
   ]
  },
  {
   "cell_type": "code",
   "execution_count": 217,
   "id": "6a1e4c8b-7c3d-4d14-8f65-00bd2427123a",
   "metadata": {
    "tags": []
   },
   "outputs": [
    {
     "data": {
      "text/html": [
       "<style>#sk-container-id-24 {color: black;background-color: white;}#sk-container-id-24 pre{padding: 0;}#sk-container-id-24 div.sk-toggleable {background-color: white;}#sk-container-id-24 label.sk-toggleable__label {cursor: pointer;display: block;width: 100%;margin-bottom: 0;padding: 0.3em;box-sizing: border-box;text-align: center;}#sk-container-id-24 label.sk-toggleable__label-arrow:before {content: \"▸\";float: left;margin-right: 0.25em;color: #696969;}#sk-container-id-24 label.sk-toggleable__label-arrow:hover:before {color: black;}#sk-container-id-24 div.sk-estimator:hover label.sk-toggleable__label-arrow:before {color: black;}#sk-container-id-24 div.sk-toggleable__content {max-height: 0;max-width: 0;overflow: hidden;text-align: left;background-color: #f0f8ff;}#sk-container-id-24 div.sk-toggleable__content pre {margin: 0.2em;color: black;border-radius: 0.25em;background-color: #f0f8ff;}#sk-container-id-24 input.sk-toggleable__control:checked~div.sk-toggleable__content {max-height: 200px;max-width: 100%;overflow: auto;}#sk-container-id-24 input.sk-toggleable__control:checked~label.sk-toggleable__label-arrow:before {content: \"▾\";}#sk-container-id-24 div.sk-estimator input.sk-toggleable__control:checked~label.sk-toggleable__label {background-color: #d4ebff;}#sk-container-id-24 div.sk-label input.sk-toggleable__control:checked~label.sk-toggleable__label {background-color: #d4ebff;}#sk-container-id-24 input.sk-hidden--visually {border: 0;clip: rect(1px 1px 1px 1px);clip: rect(1px, 1px, 1px, 1px);height: 1px;margin: -1px;overflow: hidden;padding: 0;position: absolute;width: 1px;}#sk-container-id-24 div.sk-estimator {font-family: monospace;background-color: #f0f8ff;border: 1px dotted black;border-radius: 0.25em;box-sizing: border-box;margin-bottom: 0.5em;}#sk-container-id-24 div.sk-estimator:hover {background-color: #d4ebff;}#sk-container-id-24 div.sk-parallel-item::after {content: \"\";width: 100%;border-bottom: 1px solid gray;flex-grow: 1;}#sk-container-id-24 div.sk-label:hover label.sk-toggleable__label {background-color: #d4ebff;}#sk-container-id-24 div.sk-serial::before {content: \"\";position: absolute;border-left: 1px solid gray;box-sizing: border-box;top: 0;bottom: 0;left: 50%;z-index: 0;}#sk-container-id-24 div.sk-serial {display: flex;flex-direction: column;align-items: center;background-color: white;padding-right: 0.2em;padding-left: 0.2em;position: relative;}#sk-container-id-24 div.sk-item {position: relative;z-index: 1;}#sk-container-id-24 div.sk-parallel {display: flex;align-items: stretch;justify-content: center;background-color: white;position: relative;}#sk-container-id-24 div.sk-item::before, #sk-container-id-24 div.sk-parallel-item::before {content: \"\";position: absolute;border-left: 1px solid gray;box-sizing: border-box;top: 0;bottom: 0;left: 50%;z-index: -1;}#sk-container-id-24 div.sk-parallel-item {display: flex;flex-direction: column;z-index: 1;position: relative;background-color: white;}#sk-container-id-24 div.sk-parallel-item:first-child::after {align-self: flex-end;width: 50%;}#sk-container-id-24 div.sk-parallel-item:last-child::after {align-self: flex-start;width: 50%;}#sk-container-id-24 div.sk-parallel-item:only-child::after {width: 0;}#sk-container-id-24 div.sk-dashed-wrapped {border: 1px dashed gray;margin: 0 0.4em 0.5em 0.4em;box-sizing: border-box;padding-bottom: 0.4em;background-color: white;}#sk-container-id-24 div.sk-label label {font-family: monospace;font-weight: bold;display: inline-block;line-height: 1.2em;}#sk-container-id-24 div.sk-label-container {text-align: center;}#sk-container-id-24 div.sk-container {/* jupyter's `normalize.less` sets `[hidden] { display: none; }` but bootstrap.min.css set `[hidden] { display: none !important; }` so we also need the `!important` here to be able to override the default hidden behavior on the sphinx rendered scikit-learn.org. See: https://github.com/scikit-learn/scikit-learn/issues/21755 */display: inline-block !important;position: relative;}#sk-container-id-24 div.sk-text-repr-fallback {display: none;}</style><div id=\"sk-container-id-24\" class=\"sk-top-container\"><div class=\"sk-text-repr-fallback\"><pre>LinearSVC(random_state=42)</pre><b>In a Jupyter environment, please rerun this cell to show the HTML representation or trust the notebook. <br />On GitHub, the HTML representation is unable to render, please try loading this page with nbviewer.org.</b></div><div class=\"sk-container\" hidden><div class=\"sk-item\"><div class=\"sk-estimator sk-toggleable\"><input class=\"sk-toggleable__control sk-hidden--visually\" id=\"sk-estimator-id-24\" type=\"checkbox\" checked><label for=\"sk-estimator-id-24\" class=\"sk-toggleable__label sk-toggleable__label-arrow\">LinearSVC</label><div class=\"sk-toggleable__content\"><pre>LinearSVC(random_state=42)</pre></div></div></div></div></div>"
      ],
      "text/plain": [
       "LinearSVC(random_state=42)"
      ]
     },
     "execution_count": 217,
     "metadata": {},
     "output_type": "execute_result"
    }
   ],
   "source": [
    "m = LinearSVC(random_state=42, multi_class='ovr')\n",
    "# m = RandomForestClassifier(random_state=42, max_depth=6)\n",
    "m.fit(X_train, y_train)"
   ]
  },
  {
   "cell_type": "code",
   "execution_count": 218,
   "id": "521ce5a6-9e2f-43c5-962b-b310d88b4e05",
   "metadata": {
    "tags": []
   },
   "outputs": [],
   "source": [
    "y_train_pred = m.predict(X_train)\n",
    "y_pred = m.predict(X_test)"
   ]
  },
  {
   "cell_type": "code",
   "execution_count": 219,
   "id": "9f5596af-ec02-4e39-8e7e-9e6220dfc85a",
   "metadata": {
    "tags": []
   },
   "outputs": [
    {
     "data": {
      "text/plain": [
       "{'accuracy': 0.3333333333333333,\n",
       " 'precision': 0.5158782560787092,\n",
       " 'recall': 0.3333333333333333,\n",
       " 'f1_score': 0.31365253943399923}"
      ]
     },
     "execution_count": 219,
     "metadata": {},
     "output_type": "execute_result"
    }
   ],
   "source": [
    "get_scores(y_train, y_train_pred)"
   ]
  },
  {
   "cell_type": "code",
   "execution_count": 220,
   "id": "9d92b56b-277a-41a1-85c3-52a366311653",
   "metadata": {
    "tags": []
   },
   "outputs": [
    {
     "data": {
      "text/plain": [
       "{'accuracy': 0.20245398773006135,\n",
       " 'precision': 0.20247943944262964,\n",
       " 'recall': 0.20245398773006135,\n",
       " 'f1_score': 0.14588447809902846}"
      ]
     },
     "execution_count": 220,
     "metadata": {},
     "output_type": "execute_result"
    }
   ],
   "source": [
    "get_scores(y_test, y_pred)"
   ]
  },
  {
   "cell_type": "markdown",
   "id": "74eeae6c-2584-4d67-aa1b-3e0257fc8145",
   "metadata": {},
   "source": [
    "## Connected graph"
   ]
  },
  {
   "cell_type": "code",
   "execution_count": 221,
   "id": "0c02ca17-b261-4d60-96f6-3e0c63be7633",
   "metadata": {
    "tags": []
   },
   "outputs": [],
   "source": [
    "data_di = pd.read_csv(\"output/email-eu-di.csv\")"
   ]
  },
  {
   "cell_type": "code",
   "execution_count": 222,
   "id": "b189bac1-7457-430a-a16a-6b50ae427356",
   "metadata": {
    "tags": []
   },
   "outputs": [],
   "source": [
    "X,Y = createXY(data_di, labels)"
   ]
  },
  {
   "cell_type": "code",
   "execution_count": 223,
   "id": "697b5fab-89f5-4940-ac20-e903e04abcd1",
   "metadata": {
    "tags": []
   },
   "outputs": [],
   "source": [
    "X_train, X_test, y_train, y_test = train_test_split(X, Y, test_size=0.33, random_state=42)"
   ]
  },
  {
   "cell_type": "code",
   "execution_count": 224,
   "id": "6094214e-c954-4665-86d8-d98f6d2d42a1",
   "metadata": {
    "tags": []
   },
   "outputs": [
    {
     "data": {
      "text/html": [
       "<style>#sk-container-id-25 {color: black;background-color: white;}#sk-container-id-25 pre{padding: 0;}#sk-container-id-25 div.sk-toggleable {background-color: white;}#sk-container-id-25 label.sk-toggleable__label {cursor: pointer;display: block;width: 100%;margin-bottom: 0;padding: 0.3em;box-sizing: border-box;text-align: center;}#sk-container-id-25 label.sk-toggleable__label-arrow:before {content: \"▸\";float: left;margin-right: 0.25em;color: #696969;}#sk-container-id-25 label.sk-toggleable__label-arrow:hover:before {color: black;}#sk-container-id-25 div.sk-estimator:hover label.sk-toggleable__label-arrow:before {color: black;}#sk-container-id-25 div.sk-toggleable__content {max-height: 0;max-width: 0;overflow: hidden;text-align: left;background-color: #f0f8ff;}#sk-container-id-25 div.sk-toggleable__content pre {margin: 0.2em;color: black;border-radius: 0.25em;background-color: #f0f8ff;}#sk-container-id-25 input.sk-toggleable__control:checked~div.sk-toggleable__content {max-height: 200px;max-width: 100%;overflow: auto;}#sk-container-id-25 input.sk-toggleable__control:checked~label.sk-toggleable__label-arrow:before {content: \"▾\";}#sk-container-id-25 div.sk-estimator input.sk-toggleable__control:checked~label.sk-toggleable__label {background-color: #d4ebff;}#sk-container-id-25 div.sk-label input.sk-toggleable__control:checked~label.sk-toggleable__label {background-color: #d4ebff;}#sk-container-id-25 input.sk-hidden--visually {border: 0;clip: rect(1px 1px 1px 1px);clip: rect(1px, 1px, 1px, 1px);height: 1px;margin: -1px;overflow: hidden;padding: 0;position: absolute;width: 1px;}#sk-container-id-25 div.sk-estimator {font-family: monospace;background-color: #f0f8ff;border: 1px dotted black;border-radius: 0.25em;box-sizing: border-box;margin-bottom: 0.5em;}#sk-container-id-25 div.sk-estimator:hover {background-color: #d4ebff;}#sk-container-id-25 div.sk-parallel-item::after {content: \"\";width: 100%;border-bottom: 1px solid gray;flex-grow: 1;}#sk-container-id-25 div.sk-label:hover label.sk-toggleable__label {background-color: #d4ebff;}#sk-container-id-25 div.sk-serial::before {content: \"\";position: absolute;border-left: 1px solid gray;box-sizing: border-box;top: 0;bottom: 0;left: 50%;z-index: 0;}#sk-container-id-25 div.sk-serial {display: flex;flex-direction: column;align-items: center;background-color: white;padding-right: 0.2em;padding-left: 0.2em;position: relative;}#sk-container-id-25 div.sk-item {position: relative;z-index: 1;}#sk-container-id-25 div.sk-parallel {display: flex;align-items: stretch;justify-content: center;background-color: white;position: relative;}#sk-container-id-25 div.sk-item::before, #sk-container-id-25 div.sk-parallel-item::before {content: \"\";position: absolute;border-left: 1px solid gray;box-sizing: border-box;top: 0;bottom: 0;left: 50%;z-index: -1;}#sk-container-id-25 div.sk-parallel-item {display: flex;flex-direction: column;z-index: 1;position: relative;background-color: white;}#sk-container-id-25 div.sk-parallel-item:first-child::after {align-self: flex-end;width: 50%;}#sk-container-id-25 div.sk-parallel-item:last-child::after {align-self: flex-start;width: 50%;}#sk-container-id-25 div.sk-parallel-item:only-child::after {width: 0;}#sk-container-id-25 div.sk-dashed-wrapped {border: 1px dashed gray;margin: 0 0.4em 0.5em 0.4em;box-sizing: border-box;padding-bottom: 0.4em;background-color: white;}#sk-container-id-25 div.sk-label label {font-family: monospace;font-weight: bold;display: inline-block;line-height: 1.2em;}#sk-container-id-25 div.sk-label-container {text-align: center;}#sk-container-id-25 div.sk-container {/* jupyter's `normalize.less` sets `[hidden] { display: none; }` but bootstrap.min.css set `[hidden] { display: none !important; }` so we also need the `!important` here to be able to override the default hidden behavior on the sphinx rendered scikit-learn.org. See: https://github.com/scikit-learn/scikit-learn/issues/21755 */display: inline-block !important;position: relative;}#sk-container-id-25 div.sk-text-repr-fallback {display: none;}</style><div id=\"sk-container-id-25\" class=\"sk-top-container\"><div class=\"sk-text-repr-fallback\"><pre>LinearSVC(random_state=42)</pre><b>In a Jupyter environment, please rerun this cell to show the HTML representation or trust the notebook. <br />On GitHub, the HTML representation is unable to render, please try loading this page with nbviewer.org.</b></div><div class=\"sk-container\" hidden><div class=\"sk-item\"><div class=\"sk-estimator sk-toggleable\"><input class=\"sk-toggleable__control sk-hidden--visually\" id=\"sk-estimator-id-25\" type=\"checkbox\" checked><label for=\"sk-estimator-id-25\" class=\"sk-toggleable__label sk-toggleable__label-arrow\">LinearSVC</label><div class=\"sk-toggleable__content\"><pre>LinearSVC(random_state=42)</pre></div></div></div></div></div>"
      ],
      "text/plain": [
       "LinearSVC(random_state=42)"
      ]
     },
     "execution_count": 224,
     "metadata": {},
     "output_type": "execute_result"
    }
   ],
   "source": [
    "m = LinearSVC(random_state=42, multi_class='ovr')\n",
    "m.fit(X_train, y_train)"
   ]
  },
  {
   "cell_type": "code",
   "execution_count": 225,
   "id": "796c6e27-8a1b-4547-ae89-5a82553d7ee3",
   "metadata": {
    "tags": []
   },
   "outputs": [],
   "source": [
    "y_train_pred = m.predict(X_train)\n",
    "y_pred = m.predict(X_test)"
   ]
  },
  {
   "cell_type": "code",
   "execution_count": 226,
   "id": "f4441605-717e-4316-bb98-cd72e9fb7510",
   "metadata": {
    "tags": []
   },
   "outputs": [
    {
     "data": {
      "text/plain": [
       "{'accuracy': 0.23179791976225855,\n",
       " 'precision': 0.5387480888084932,\n",
       " 'recall': 0.23179791976225855,\n",
       " 'f1_score': 0.19892515559487275}"
      ]
     },
     "execution_count": 226,
     "metadata": {},
     "output_type": "execute_result"
    }
   ],
   "source": [
    "get_scores(y_train, y_train_pred)"
   ]
  },
  {
   "cell_type": "code",
   "execution_count": 227,
   "id": "ba2fa03b-e829-492c-8e68-6fd2a33d3d5f",
   "metadata": {
    "tags": []
   },
   "outputs": [
    {
     "data": {
      "text/plain": [
       "{'accuracy': 0.13253012048192772,\n",
       " 'precision': 0.08865431243364026,\n",
       " 'recall': 0.13253012048192772,\n",
       " 'f1_score': 0.07916559149549758}"
      ]
     },
     "execution_count": 227,
     "metadata": {},
     "output_type": "execute_result"
    }
   ],
   "source": [
    "get_scores(y_test, y_pred)"
   ]
  },
  {
   "attachments": {},
   "cell_type": "markdown",
   "id": "72fbee60",
   "metadata": {},
   "source": [
    "# Visual examples"
   ]
  },
  {
   "cell_type": "code",
   "execution_count": 25,
   "id": "796c49bc",
   "metadata": {},
   "outputs": [
    {
     "data": {
      "image/png": "[encoded data removed]",
      "text/plain": [
       "<Figure size 432x288 with 1 Axes>"
      ]
     },
     "metadata": {},
     "output_type": "display_data"
    }
   ],
   "source": [
    "import pandas as pd \n",
    "import networkx as nx\n",
    "\n",
    "graph = nx.from_edgelist(pd.read_csv('/Users/szymonszmajdzinski/Documents/Studia/Magisterskie/MLoG/diff2vec4directed-1/data/test3.csv', index_col=None).values.tolist(), create_using=nx.DiGraph)\n",
    "nx.draw_networkx(graph)"
   ]
  },
  {
   "cell_type": "code",
   "execution_count": 33,
   "id": "614ba5cf",
   "metadata": {},
   "outputs": [
    {
     "data": {
      "image/png": "[encoded data removed]",
      "text/plain": [
       "<Figure size 432x288 with 1 Axes>"
      ]
     },
     "metadata": {
      "needs_background": "light"
     },
     "output_type": "display_data"
    }
   ],
   "source": [
    "import pandas as pd\n",
    "import matplotlib.pyplot as plt\n",
    "\n",
    "# read the data from the CSV file into a Pa`ndas DataFrame\n",
    "df = pd.read_csv('output/test.csv')\n",
    "\n",
    "# create the scatter plot\n",
    "plt.scatter(df['x_0'], df['x_1'])\n",
    "for i, row in df.iterrows():\n",
    "    plt.annotate(row['node'], xy=(row['x_0'], row['x_1']), xytext=(5, 5), textcoords='offset points')\n",
    "plt.xlabel('x_0')\n",
    "plt.ylabel('x_1')\n",
    "plt.title('Scatter Plot')\n",
    "plt.show()"
   ]
  },
  {
   "cell_type": "code",
   "execution_count": null,
   "id": "9fa41601",
   "metadata": {},
   "outputs": [],
   "source": []
  }
 ],
 "metadata": {
  "kernelspec": {
   "display_name": "Python 3 (ipykernel)",
   "language": "python",
   "name": "python3"
  },
  "language_info": {
   "codemirror_mode": {
    "name": "ipython",
    "version": 3
   },
   "file_extension": ".py",
   "mimetype": "text/x-python",
   "name": "python",
   "nbconvert_exporter": "python",
   "pygments_lexer": "ipython3",
   "version": "3.5.6"
  }
 },
 "nbformat": 4,
 "nbformat_minor": 5
}
